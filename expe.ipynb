{
 "cells": [
  {
   "cell_type": "code",
   "execution_count": 1,
   "metadata": {},
   "outputs": [],
   "source": [
    "%load_ext autoreload\n",
    "%autoreload 2"
   ]
  },
  {
   "cell_type": "code",
   "execution_count": 2,
   "metadata": {},
   "outputs": [],
   "source": [
    "import sys\n",
    "from torch.autograd import Variable\n",
    "import torch.nn.functional as F\n",
    "import numpy as np\n",
    "from sklearn.model_selection import train_test_split\n",
    "from sklearn.datasets import make_regression"
   ]
  },
  {
   "cell_type": "code",
   "execution_count": 3,
   "metadata": {},
   "outputs": [],
   "source": [
    "sys.path.append('code')"
   ]
  },
  {
   "cell_type": "markdown",
   "metadata": {},
   "source": [
    "## Load data"
   ]
  },
  {
   "cell_type": "code",
   "execution_count": 4,
   "metadata": {},
   "outputs": [],
   "source": [
    "with open(\"data/2020-09-08_sentences.txt\") as sfile:\n",
    "    sents = sfile.readlines()\n",
    "sents = [x.replace(\"\\n\", \"\") for x in sents]\n",
    "\n",
    "with open(\"data/2020-09-14_embeddings_mean.csv\") as efile:\n",
    "    embs = efile.readlines()\n",
    "embs = [[float(y) for y in x.replace(\"\\n\", \"\").split(\";\")] for x in embs]\n",
    "\n",
    "with open(\"data/2020-09-22_properties.csv\") as pfile:\n",
    "    props = pfile.readlines()\n",
    "props = [[int(y) for y in x.replace(\"\\n\", \"\").split(\";\")] for x in props]"
   ]
  },
  {
   "cell_type": "code",
   "execution_count": 5,
   "metadata": {},
   "outputs": [
    {
     "name": "stdout",
     "output_type": "stream",
     "text": [
      "(6200, 87) (6200, 768)\n",
      "87\n",
      "768\n"
     ]
    }
   ],
   "source": [
    "# create dataset\n",
    "X, y = np.array(props), np.array(embs)\n",
    "# summarize shape\n",
    "print(X.shape, y.shape)\n",
    "inputdim = X.shape[1]\n",
    "outputdim = y.shape[1]\n",
    "print(inputdim)\n",
    "print(outputdim)"
   ]
  },
  {
   "cell_type": "markdown",
   "metadata": {},
   "source": [
    "## MLP for regression"
   ]
  },
  {
   "cell_type": "markdown",
   "metadata": {},
   "source": [
    "### Define model"
   ]
  },
  {
   "cell_type": "code",
   "execution_count": 9,
   "metadata": {},
   "outputs": [],
   "source": [
    "from utils import *"
   ]
  },
  {
   "cell_type": "code",
   "execution_count": 10,
   "metadata": {},
   "outputs": [],
   "source": [
    "net = Net(inputdim, outputdim)     # define the network\n",
    "optimizer = torch.optim.SGD(net.parameters(), lr=0.2)\n",
    "loss_func = torch.nn.MSELoss()  # this is for regression mean squared loss\n",
    "\n",
    "X_train, X_test, y_train, y_test = train_test_split(props, embs, test_size=0.20, random_state=42)"
   ]
  },
  {
   "cell_type": "code",
   "execution_count": 11,
   "metadata": {},
   "outputs": [],
   "source": [
    "# prep for pytorch\n",
    "X_train = torch.FloatTensor(X_train)\n",
    "y_train = torch.FloatTensor(y_train)\n",
    "X_test = torch.FloatTensor(X_test)\n",
    "y_test = torch.FloatTensor(y_test)"
   ]
  },
  {
   "cell_type": "markdown",
   "metadata": {},
   "source": [
    "### Train model"
   ]
  },
  {
   "cell_type": "code",
   "execution_count": null,
   "metadata": {},
   "outputs": [],
   "source": [
    "# train the network\n",
    "for t in range(2000):\n",
    "    prediction = net(X_train)     # input x and predict based on x\n",
    "    loss = loss_func(prediction, y_train)     # must be (1. nn output, 2. target)\n",
    "    optimizer.zero_grad()   # clear gradients for next train\n",
    "    loss.backward()         # backpropagation, compute gradients\n",
    "    optimizer.step()        # apply gradients"
   ]
  },
  {
   "cell_type": "markdown",
   "metadata": {},
   "source": [
    "### Save model"
   ]
  },
  {
   "cell_type": "code",
   "execution_count": null,
   "metadata": {},
   "outputs": [],
   "source": [
    "emptymodel = Net(inputdim, outputdim)\n",
    "model = my_load_model(\"test\", emptymodel)"
   ]
  },
  {
   "cell_type": "code",
   "execution_count": null,
   "metadata": {},
   "outputs": [],
   "source": [
    "preds = model(X_test)"
   ]
  },
  {
   "cell_type": "markdown",
   "metadata": {},
   "source": [
    "## RF for regression"
   ]
  },
  {
   "cell_type": "code",
   "execution_count": 6,
   "metadata": {},
   "outputs": [],
   "source": [
    "from sklearn.datasets import make_regression\n",
    "from sklearn.ensemble import RandomForestRegressor\n",
    "import matplotlib.pyplot as plt"
   ]
  },
  {
   "cell_type": "markdown",
   "metadata": {},
   "source": [
    "### Train single model"
   ]
  },
  {
   "cell_type": "code",
   "execution_count": 12,
   "metadata": {},
   "outputs": [
    {
     "data": {
      "text/plain": [
       "RandomForestRegressor(n_estimators=50)"
      ]
     },
     "execution_count": 12,
     "metadata": {},
     "output_type": "execute_result"
    }
   ],
   "source": [
    "# define model\n",
    "model_rf = RandomForestRegressor(n_estimators=50)\n",
    "# fit model\n",
    "model_rf.fit(X_train, y_train)"
   ]
  },
  {
   "cell_type": "code",
   "execution_count": 64,
   "metadata": {},
   "outputs": [],
   "source": [
    "features = np.sort(model_rf.feature_importances_)"
   ]
  },
  {
   "cell_type": "code",
   "execution_count": 67,
   "metadata": {},
   "outputs": [
    {
     "data": {
      "text/plain": [
       "[<matplotlib.lines.Line2D at 0x149083d10>]"
      ]
     },
     "execution_count": 67,
     "metadata": {},
     "output_type": "execute_result"
    },
    {
     "data": {
      "image/png": "[encoded data removed]",
      "text/plain": [
       "<Figure size 432x288 with 1 Axes>"
      ]
     },
     "metadata": {
      "needs_background": "light"
     },
     "output_type": "display_data"
    }
   ],
   "source": [
    "plt.plot(features)"
   ]
  },
  {
   "cell_type": "code",
   "execution_count": 68,
   "metadata": {},
   "outputs": [
    {
     "data": {
      "text/plain": [
       "array([0.00000000e+00, 0.00000000e+00, 4.55254668e-05, 6.59742230e-05,\n",
       "       3.50191142e-04, 3.61756148e-04, 4.82727339e-04, 5.70521139e-04,\n",
       "       5.95474023e-04, 7.49246668e-04, 7.81936179e-04, 9.73928469e-04,\n",
       "       9.84688837e-04, 1.00152885e-03, 1.57637382e-03, 1.61007471e-03,\n",
       "       1.69565359e-03, 1.70547757e-03, 1.78813170e-03, 2.10240080e-03,\n",
       "       2.28650996e-03, 2.29084421e-03, 2.54667186e-03, 2.75543303e-03,\n",
       "       2.81142826e-03, 2.83841382e-03, 2.84298886e-03, 2.86109571e-03,\n",
       "       2.92043386e-03, 3.13279470e-03, 3.30145369e-03, 3.43080612e-03,\n",
       "       3.53738409e-03, 3.75494566e-03, 3.80010480e-03, 3.80694778e-03,\n",
       "       4.00731790e-03, 4.05752395e-03, 4.24187306e-03, 4.32178324e-03,\n",
       "       5.01881370e-03, 5.33603705e-03, 5.54619634e-03, 6.99232564e-03,\n",
       "       7.58672776e-03, 8.12140555e-03, 8.22419058e-03, 8.74854259e-03,\n",
       "       9.03874121e-03, 9.20653731e-03, 9.51638732e-03, 9.56155073e-03,\n",
       "       9.73678012e-03, 9.84033413e-03, 9.92167378e-03, 1.03807539e-02,\n",
       "       1.06418244e-02, 1.06779865e-02, 1.11795925e-02, 1.17181956e-02,\n",
       "       1.18964876e-02, 1.19313892e-02, 1.21124083e-02, 1.24641120e-02,\n",
       "       1.27835450e-02, 1.39565139e-02, 1.40619693e-02, 1.49204222e-02,\n",
       "       1.62569748e-02, 1.63212580e-02, 1.63806672e-02, 1.88263801e-02,\n",
       "       2.00354490e-02, 2.42553626e-02, 2.47052519e-02, 2.51664085e-02,\n",
       "       2.53840403e-02, 2.60650977e-02, 2.93580588e-02, 3.00537913e-02,\n",
       "       3.37094930e-02, 4.30816044e-02, 4.49839580e-02, 4.63907423e-02,\n",
       "       6.16315187e-02, 6.16444115e-02, 7.16397224e-02])"
      ]
     },
     "execution_count": 68,
     "metadata": {},
     "output_type": "execute_result"
    }
   ],
   "source": [
    "features"
   ]
  },
  {
   "cell_type": "code",
   "execution_count": 14,
   "metadata": {},
   "outputs": [],
   "source": [
    "preds_rf = model_rf.predict(X_test)"
   ]
  },
  {
   "cell_type": "code",
   "execution_count": 15,
   "metadata": {},
   "outputs": [
    {
     "data": {
      "text/plain": [
       "array([[-0.21276036, -0.17013222,  0.19216261, ..., -0.16317337,\n",
       "         0.24229372, -0.10806679],\n",
       "       [-0.07424421, -0.12804609,  0.05910014, ..., -0.11487924,\n",
       "         0.21340366, -0.00523934],\n",
       "       [-0.07424421, -0.12804609,  0.05910014, ..., -0.11487924,\n",
       "         0.21340366, -0.00523934],\n",
       "       ...,\n",
       "       [-0.07424421, -0.12804609,  0.05910014, ..., -0.11487924,\n",
       "         0.21340366, -0.00523934],\n",
       "       [-0.07424421, -0.12804609,  0.05910014, ..., -0.11487924,\n",
       "         0.21340366, -0.00523934],\n",
       "       [-0.20011401, -0.14221996,  0.15098258, ..., -0.07115534,\n",
       "         0.22269656, -0.00498262]])"
      ]
     },
     "execution_count": 15,
     "metadata": {},
     "output_type": "execute_result"
    }
   ],
   "source": [
    "preds_rf"
   ]
  },
  {
   "cell_type": "code",
   "execution_count": null,
   "metadata": {},
   "outputs": [],
   "source": [
    "## Eval baseline + pred distances"
   ]
  },
  {
   "cell_type": "markdown",
   "metadata": {},
   "source": [
    "## Compare baselines and prediction"
   ]
  },
  {
   "cell_type": "code",
   "execution_count": 28,
   "metadata": {},
   "outputs": [],
   "source": [
    "from FImp import *"
   ]
  },
  {
   "cell_type": "code",
   "execution_count": 50,
   "metadata": {},
   "outputs": [],
   "source": [
    "baselines100 = []\n",
    "for i in range(100):\n",
    "    baseline = pd.read_csv(\"data/2020-11-17_rand_embs_noise\"+str(i)+\".csv\", sep=\",\", index_col=None, header=0, names=None)\n",
    "    baselines100.append(baseline)"
   ]
  },
  {
   "cell_type": "code",
   "execution_count": 52,
   "metadata": {},
   "outputs": [],
   "source": [
    "scores_bl = []\n",
    "for bl in baselines100:\n",
    "    scores_bl.append(AvCorrCoef(y_test, bl))"
   ]
  },
  {
   "cell_type": "code",
   "execution_count": 31,
   "metadata": {},
   "outputs": [],
   "source": [
    "import pandas as pd\n",
    "from scipy import stats\n",
    "from statsmodels.stats import weightstats as stests"
   ]
  },
  {
   "cell_type": "code",
   "execution_count": 53,
   "metadata": {},
   "outputs": [],
   "source": [
    "score_predrf = AvCorrCoef(y_test, preds_rf)"
   ]
  },
  {
   "cell_type": "code",
   "execution_count": 54,
   "metadata": {},
   "outputs": [
    {
     "name": "stdout",
     "output_type": "stream",
     "text": [
      "8.180866964184471e-05\n",
      "0.0009816309111870146\n",
      "0.1335788484731206\n"
     ]
    }
   ],
   "source": [
    "print(np.mean(scores_bl))\n",
    "print(np.std(scores_bl))\n",
    "\n",
    "print(score_predrf)"
   ]
  },
  {
   "cell_type": "code",
   "execution_count": 55,
   "metadata": {},
   "outputs": [
    {
     "name": "stdout",
     "output_type": "stream",
     "text": [
      "0.0\n",
      "-1353.1346250574434\n",
      "reject null hypothesis\n"
     ]
    }
   ],
   "source": [
    "ztest ,pval = stests.ztest(scores_bl, x2=None, value=score_predrf)\n",
    "print(float(pval))\n",
    "print(ztest)\n",
    "if pval<0.05:\n",
    "    print(\"reject null hypothesis\")\n",
    "else:\n",
    "    print(\"accept null hypothesis\")"
   ]
  },
  {
   "cell_type": "markdown",
   "metadata": {},
   "source": [
    "## Import baselines"
   ]
  },
  {
   "cell_type": "code",
   "execution_count": 17,
   "metadata": {},
   "outputs": [],
   "source": [
    "import pandas as pd"
   ]
  },
  {
   "cell_type": "code",
   "execution_count": 18,
   "metadata": {},
   "outputs": [],
   "source": [
    "# load baselinedata\n",
    "baseline = pd.read_csv(\"data/2020-10-02_baseline.csv\", sep=\",\", index_col=None, names=None, header=None)"
   ]
  },
  {
   "cell_type": "code",
   "execution_count": 19,
   "metadata": {},
   "outputs": [
    {
     "data": {
      "text/html": [
       "<div>\n",
       "<style scoped>\n",
       "    .dataframe tbody tr th:only-of-type {\n",
       "        vertical-align: middle;\n",
       "    }\n",
       "\n",
       "    .dataframe tbody tr th {\n",
       "        vertical-align: top;\n",
       "    }\n",
       "\n",
       "    .dataframe thead th {\n",
       "        text-align: right;\n",
       "    }\n",
       "</style>\n",
       "<table border=\"1\" class=\"dataframe\">\n",
       "  <thead>\n",
       "    <tr style=\"text-align: right;\">\n",
       "      <th></th>\n",
       "      <th>0</th>\n",
       "      <th>1</th>\n",
       "      <th>2</th>\n",
       "      <th>3</th>\n",
       "      <th>4</th>\n",
       "      <th>5</th>\n",
       "      <th>6</th>\n",
       "      <th>7</th>\n",
       "      <th>8</th>\n",
       "      <th>9</th>\n",
       "      <th>...</th>\n",
       "      <th>758</th>\n",
       "      <th>759</th>\n",
       "      <th>760</th>\n",
       "      <th>761</th>\n",
       "      <th>762</th>\n",
       "      <th>763</th>\n",
       "      <th>764</th>\n",
       "      <th>765</th>\n",
       "      <th>766</th>\n",
       "      <th>767</th>\n",
       "    </tr>\n",
       "  </thead>\n",
       "  <tbody>\n",
       "    <tr>\n",
       "      <th>0</th>\n",
       "      <td>-0.183330</td>\n",
       "      <td>-0.338543</td>\n",
       "      <td>0.394645</td>\n",
       "      <td>0.208696</td>\n",
       "      <td>0.272407</td>\n",
       "      <td>0.262314</td>\n",
       "      <td>0.176081</td>\n",
       "      <td>0.452315</td>\n",
       "      <td>-0.088711</td>\n",
       "      <td>-0.156307</td>\n",
       "      <td>...</td>\n",
       "      <td>0.093218</td>\n",
       "      <td>0.102018</td>\n",
       "      <td>0.116440</td>\n",
       "      <td>-0.374251</td>\n",
       "      <td>-0.039406</td>\n",
       "      <td>-0.588085</td>\n",
       "      <td>0.001833</td>\n",
       "      <td>-0.034762</td>\n",
       "      <td>0.147428</td>\n",
       "      <td>0.430758</td>\n",
       "    </tr>\n",
       "    <tr>\n",
       "      <th>1</th>\n",
       "      <td>-0.198364</td>\n",
       "      <td>-0.138444</td>\n",
       "      <td>0.031957</td>\n",
       "      <td>-0.132682</td>\n",
       "      <td>0.392281</td>\n",
       "      <td>-0.027410</td>\n",
       "      <td>-0.210383</td>\n",
       "      <td>0.430158</td>\n",
       "      <td>-0.022197</td>\n",
       "      <td>0.300843</td>\n",
       "      <td>...</td>\n",
       "      <td>0.025187</td>\n",
       "      <td>-0.009398</td>\n",
       "      <td>-0.151384</td>\n",
       "      <td>-0.085963</td>\n",
       "      <td>0.343738</td>\n",
       "      <td>-0.428683</td>\n",
       "      <td>-0.063570</td>\n",
       "      <td>-0.115330</td>\n",
       "      <td>-0.050759</td>\n",
       "      <td>-0.008490</td>\n",
       "    </tr>\n",
       "    <tr>\n",
       "      <th>2</th>\n",
       "      <td>0.010989</td>\n",
       "      <td>0.080653</td>\n",
       "      <td>-0.022944</td>\n",
       "      <td>0.170160</td>\n",
       "      <td>0.222607</td>\n",
       "      <td>-0.033463</td>\n",
       "      <td>0.099859</td>\n",
       "      <td>0.325499</td>\n",
       "      <td>0.135997</td>\n",
       "      <td>0.050320</td>\n",
       "      <td>...</td>\n",
       "      <td>0.106332</td>\n",
       "      <td>-0.312108</td>\n",
       "      <td>0.053406</td>\n",
       "      <td>-0.329611</td>\n",
       "      <td>0.262430</td>\n",
       "      <td>-0.467402</td>\n",
       "      <td>0.022986</td>\n",
       "      <td>0.059246</td>\n",
       "      <td>0.192895</td>\n",
       "      <td>-0.357010</td>\n",
       "    </tr>\n",
       "    <tr>\n",
       "      <th>3</th>\n",
       "      <td>0.088568</td>\n",
       "      <td>-0.089175</td>\n",
       "      <td>0.358509</td>\n",
       "      <td>0.088131</td>\n",
       "      <td>0.491026</td>\n",
       "      <td>-0.221425</td>\n",
       "      <td>0.074407</td>\n",
       "      <td>0.517344</td>\n",
       "      <td>-0.409624</td>\n",
       "      <td>-0.197844</td>\n",
       "      <td>...</td>\n",
       "      <td>0.068139</td>\n",
       "      <td>0.097460</td>\n",
       "      <td>-0.080508</td>\n",
       "      <td>-0.232688</td>\n",
       "      <td>-0.128343</td>\n",
       "      <td>-0.240722</td>\n",
       "      <td>0.304749</td>\n",
       "      <td>-0.078456</td>\n",
       "      <td>-0.203725</td>\n",
       "      <td>0.140829</td>\n",
       "    </tr>\n",
       "    <tr>\n",
       "      <th>4</th>\n",
       "      <td>-0.310554</td>\n",
       "      <td>-0.041779</td>\n",
       "      <td>0.199236</td>\n",
       "      <td>0.038224</td>\n",
       "      <td>0.242709</td>\n",
       "      <td>-0.190991</td>\n",
       "      <td>-0.492122</td>\n",
       "      <td>0.290447</td>\n",
       "      <td>0.209475</td>\n",
       "      <td>0.507692</td>\n",
       "      <td>...</td>\n",
       "      <td>-0.038870</td>\n",
       "      <td>0.077799</td>\n",
       "      <td>0.122043</td>\n",
       "      <td>0.183782</td>\n",
       "      <td>0.312981</td>\n",
       "      <td>-0.260714</td>\n",
       "      <td>-0.365845</td>\n",
       "      <td>-0.090030</td>\n",
       "      <td>0.364407</td>\n",
       "      <td>0.203804</td>\n",
       "    </tr>\n",
       "    <tr>\n",
       "      <th>...</th>\n",
       "      <td>...</td>\n",
       "      <td>...</td>\n",
       "      <td>...</td>\n",
       "      <td>...</td>\n",
       "      <td>...</td>\n",
       "      <td>...</td>\n",
       "      <td>...</td>\n",
       "      <td>...</td>\n",
       "      <td>...</td>\n",
       "      <td>...</td>\n",
       "      <td>...</td>\n",
       "      <td>...</td>\n",
       "      <td>...</td>\n",
       "      <td>...</td>\n",
       "      <td>...</td>\n",
       "      <td>...</td>\n",
       "      <td>...</td>\n",
       "      <td>...</td>\n",
       "      <td>...</td>\n",
       "      <td>...</td>\n",
       "      <td>...</td>\n",
       "    </tr>\n",
       "    <tr>\n",
       "      <th>1235</th>\n",
       "      <td>-0.035068</td>\n",
       "      <td>-0.101342</td>\n",
       "      <td>-0.038527</td>\n",
       "      <td>-0.515978</td>\n",
       "      <td>0.422511</td>\n",
       "      <td>-0.035562</td>\n",
       "      <td>-0.140601</td>\n",
       "      <td>0.393623</td>\n",
       "      <td>0.059193</td>\n",
       "      <td>0.195277</td>\n",
       "      <td>...</td>\n",
       "      <td>0.041091</td>\n",
       "      <td>-0.124184</td>\n",
       "      <td>0.012155</td>\n",
       "      <td>-0.116769</td>\n",
       "      <td>-0.036674</td>\n",
       "      <td>0.065368</td>\n",
       "      <td>0.021741</td>\n",
       "      <td>-0.214591</td>\n",
       "      <td>0.231099</td>\n",
       "      <td>-0.124138</td>\n",
       "    </tr>\n",
       "    <tr>\n",
       "      <th>1236</th>\n",
       "      <td>-0.445690</td>\n",
       "      <td>-0.025927</td>\n",
       "      <td>0.397435</td>\n",
       "      <td>0.450872</td>\n",
       "      <td>0.467972</td>\n",
       "      <td>-0.463584</td>\n",
       "      <td>-0.308271</td>\n",
       "      <td>0.145245</td>\n",
       "      <td>0.075171</td>\n",
       "      <td>0.117758</td>\n",
       "      <td>...</td>\n",
       "      <td>-0.158808</td>\n",
       "      <td>-0.019649</td>\n",
       "      <td>0.467825</td>\n",
       "      <td>-0.628538</td>\n",
       "      <td>0.172530</td>\n",
       "      <td>0.004418</td>\n",
       "      <td>0.297175</td>\n",
       "      <td>0.106137</td>\n",
       "      <td>-0.103812</td>\n",
       "      <td>-0.019936</td>\n",
       "    </tr>\n",
       "    <tr>\n",
       "      <th>1237</th>\n",
       "      <td>0.013183</td>\n",
       "      <td>-0.134107</td>\n",
       "      <td>-0.160256</td>\n",
       "      <td>-0.159644</td>\n",
       "      <td>0.420977</td>\n",
       "      <td>0.159681</td>\n",
       "      <td>-0.192252</td>\n",
       "      <td>0.340523</td>\n",
       "      <td>-0.044632</td>\n",
       "      <td>-0.207104</td>\n",
       "      <td>...</td>\n",
       "      <td>-0.057211</td>\n",
       "      <td>0.136079</td>\n",
       "      <td>-0.130153</td>\n",
       "      <td>-0.338041</td>\n",
       "      <td>0.330491</td>\n",
       "      <td>-0.188173</td>\n",
       "      <td>-0.160723</td>\n",
       "      <td>-0.170621</td>\n",
       "      <td>0.366945</td>\n",
       "      <td>0.061022</td>\n",
       "    </tr>\n",
       "    <tr>\n",
       "      <th>1238</th>\n",
       "      <td>-0.682124</td>\n",
       "      <td>-0.276185</td>\n",
       "      <td>0.089449</td>\n",
       "      <td>0.211166</td>\n",
       "      <td>0.439895</td>\n",
       "      <td>-0.219995</td>\n",
       "      <td>0.308842</td>\n",
       "      <td>0.747637</td>\n",
       "      <td>-0.006205</td>\n",
       "      <td>0.247991</td>\n",
       "      <td>...</td>\n",
       "      <td>-0.231789</td>\n",
       "      <td>0.061435</td>\n",
       "      <td>0.391486</td>\n",
       "      <td>-0.378326</td>\n",
       "      <td>0.034358</td>\n",
       "      <td>-0.311263</td>\n",
       "      <td>0.024432</td>\n",
       "      <td>-0.245886</td>\n",
       "      <td>0.068491</td>\n",
       "      <td>0.264692</td>\n",
       "    </tr>\n",
       "    <tr>\n",
       "      <th>1239</th>\n",
       "      <td>-0.010903</td>\n",
       "      <td>0.194169</td>\n",
       "      <td>-0.036732</td>\n",
       "      <td>-0.023183</td>\n",
       "      <td>0.267444</td>\n",
       "      <td>0.016398</td>\n",
       "      <td>-0.244801</td>\n",
       "      <td>0.479853</td>\n",
       "      <td>0.018255</td>\n",
       "      <td>0.393766</td>\n",
       "      <td>...</td>\n",
       "      <td>-0.250467</td>\n",
       "      <td>-0.235702</td>\n",
       "      <td>0.203558</td>\n",
       "      <td>-0.381977</td>\n",
       "      <td>0.204990</td>\n",
       "      <td>-0.007998</td>\n",
       "      <td>0.121227</td>\n",
       "      <td>-0.000897</td>\n",
       "      <td>0.282391</td>\n",
       "      <td>-0.296145</td>\n",
       "    </tr>\n",
       "  </tbody>\n",
       "</table>\n",
       "<p>1240 rows × 768 columns</p>\n",
       "</div>"
      ],
      "text/plain": [
       "           0         1         2         3         4         5         6    \\\n",
       "0    -0.183330 -0.338543  0.394645  0.208696  0.272407  0.262314  0.176081   \n",
       "1    -0.198364 -0.138444  0.031957 -0.132682  0.392281 -0.027410 -0.210383   \n",
       "2     0.010989  0.080653 -0.022944  0.170160  0.222607 -0.033463  0.099859   \n",
       "3     0.088568 -0.089175  0.358509  0.088131  0.491026 -0.221425  0.074407   \n",
       "4    -0.310554 -0.041779  0.199236  0.038224  0.242709 -0.190991 -0.492122   \n",
       "...        ...       ...       ...       ...       ...       ...       ...   \n",
       "1235 -0.035068 -0.101342 -0.038527 -0.515978  0.422511 -0.035562 -0.140601   \n",
       "1236 -0.445690 -0.025927  0.397435  0.450872  0.467972 -0.463584 -0.308271   \n",
       "1237  0.013183 -0.134107 -0.160256 -0.159644  0.420977  0.159681 -0.192252   \n",
       "1238 -0.682124 -0.276185  0.089449  0.211166  0.439895 -0.219995  0.308842   \n",
       "1239 -0.010903  0.194169 -0.036732 -0.023183  0.267444  0.016398 -0.244801   \n",
       "\n",
       "           7         8         9    ...       758       759       760  \\\n",
       "0     0.452315 -0.088711 -0.156307  ...  0.093218  0.102018  0.116440   \n",
       "1     0.430158 -0.022197  0.300843  ...  0.025187 -0.009398 -0.151384   \n",
       "2     0.325499  0.135997  0.050320  ...  0.106332 -0.312108  0.053406   \n",
       "3     0.517344 -0.409624 -0.197844  ...  0.068139  0.097460 -0.080508   \n",
       "4     0.290447  0.209475  0.507692  ... -0.038870  0.077799  0.122043   \n",
       "...        ...       ...       ...  ...       ...       ...       ...   \n",
       "1235  0.393623  0.059193  0.195277  ...  0.041091 -0.124184  0.012155   \n",
       "1236  0.145245  0.075171  0.117758  ... -0.158808 -0.019649  0.467825   \n",
       "1237  0.340523 -0.044632 -0.207104  ... -0.057211  0.136079 -0.130153   \n",
       "1238  0.747637 -0.006205  0.247991  ... -0.231789  0.061435  0.391486   \n",
       "1239  0.479853  0.018255  0.393766  ... -0.250467 -0.235702  0.203558   \n",
       "\n",
       "           761       762       763       764       765       766       767  \n",
       "0    -0.374251 -0.039406 -0.588085  0.001833 -0.034762  0.147428  0.430758  \n",
       "1    -0.085963  0.343738 -0.428683 -0.063570 -0.115330 -0.050759 -0.008490  \n",
       "2    -0.329611  0.262430 -0.467402  0.022986  0.059246  0.192895 -0.357010  \n",
       "3    -0.232688 -0.128343 -0.240722  0.304749 -0.078456 -0.203725  0.140829  \n",
       "4     0.183782  0.312981 -0.260714 -0.365845 -0.090030  0.364407  0.203804  \n",
       "...        ...       ...       ...       ...       ...       ...       ...  \n",
       "1235 -0.116769 -0.036674  0.065368  0.021741 -0.214591  0.231099 -0.124138  \n",
       "1236 -0.628538  0.172530  0.004418  0.297175  0.106137 -0.103812 -0.019936  \n",
       "1237 -0.338041  0.330491 -0.188173 -0.160723 -0.170621  0.366945  0.061022  \n",
       "1238 -0.378326  0.034358 -0.311263  0.024432 -0.245886  0.068491  0.264692  \n",
       "1239 -0.381977  0.204990 -0.007998  0.121227 -0.000897  0.282391 -0.296145  \n",
       "\n",
       "[1240 rows x 768 columns]"
      ]
     },
     "execution_count": 19,
     "metadata": {},
     "output_type": "execute_result"
    }
   ],
   "source": [
    "baseline"
   ]
  },
  {
   "cell_type": "code",
   "execution_count": null,
   "metadata": {},
   "outputs": [],
   "source": [
    "from FImp import *"
   ]
  },
  {
   "cell_type": "code",
   "execution_count": null,
   "metadata": {},
   "outputs": [],
   "source": [
    "# pred\n",
    "mse_pred = MeanSqErr(y_test, preds_rf)\n",
    "mse_baseline = MeanSqErr(y_test, baselinedata)\n",
    "(mse_baseline, mse_pred, MeanSqErr(y_test, y_test))"
   ]
  },
  {
   "cell_type": "code",
   "execution_count": null,
   "metadata": {},
   "outputs": [],
   "source": [
    "# btw -1, +1 (coef correl)\n",
    "avcorref_pred = AvCorrCoef(y_test, preds_rf)\n",
    "avcorref_baseline = AvCorrCoef(y_test, baselinedata)\n",
    "(avcorref_baseline, avcorref_pred, AvCorrCoef(y_test, y_test))"
   ]
  },
  {
   "cell_type": "code",
   "execution_count": null,
   "metadata": {},
   "outputs": [],
   "source": [
    "avrelerr_pred = AvRelErr(y_test, preds_rf)\n",
    "avrelerr_baseline = AvRelErr(y_test, baselinedata)\n",
    "( avrelerr_baseline, avrelerr_pred, AvRelErr(y_test, y_test))"
   ]
  },
  {
   "cell_type": "code",
   "execution_count": null,
   "metadata": {},
   "outputs": [],
   "source": [
    "avrootmeansqerr_pred = AvRootMeanSqErr(y_test, preds_rf)\n",
    "avrootmeansqerr_baseline = AvRootMeanSqErr(y_test, baselinedata)\n",
    "(avrootmeansqerr_baseline, avrootmeansqerr_pred, AvRootMeanSqErr(y_test, y_test))"
   ]
  },
  {
   "cell_type": "code",
   "execution_count": null,
   "metadata": {},
   "outputs": [],
   "source": [
    "avrelrootmeansqerr_pred = AvRelRootMeanSqErr(y_test, preds_rf)\n",
    "avrelrootmeansqerr_baseline = AvRelRootMeanSqErr(y_test, baselinedata)\n",
    "avrelrootmeansqerr_opti = AvRelRootMeanSqErr(y_test, y_test)\n",
    "\n",
    "\n",
    "(avrelrootmeansqerr_baseline, avrelrootmeansqerr_pred, avrelrootmeansqerr_opti)"
   ]
  },
  {
   "cell_type": "code",
   "execution_count": null,
   "metadata": {},
   "outputs": [],
   "source": [
    "baselinedata = baseline.values.tolist()"
   ]
  },
  {
   "cell_type": "markdown",
   "metadata": {},
   "source": [
    "### Train with optiRF"
   ]
  },
  {
   "cell_type": "code",
   "execution_count": null,
   "metadata": {},
   "outputs": [],
   "source": [
    "from FImp import optiRF"
   ]
  },
  {
   "cell_type": "code",
   "execution_count": null,
   "metadata": {},
   "outputs": [],
   "source": [
    "opti_model = optiRF(X_train, y_train)"
   ]
  },
  {
   "cell_type": "markdown",
   "metadata": {},
   "source": [
    "## Evaluate predictions"
   ]
  },
  {
   "cell_type": "code",
   "execution_count": null,
   "metadata": {},
   "outputs": [],
   "source": [
    "l = np.sort(model_rf.feature_importances_)"
   ]
  },
  {
   "cell_type": "code",
   "execution_count": null,
   "metadata": {},
   "outputs": [],
   "source": [
    "# features names in right order\n",
    "names = ['Same-Unit', 'elaboration-additional-e', 'List', 'elaboration-object-attribute-e',\n",
    "                'condition', 'attribution', 'elaboration-additional', 'circumstance',\n",
    "                'purpose', 'elaboration-general-specific', 'restatement-e', 'reason',\n",
    "                'elaboration-part-whole-e', 'rhetorical-question', 'manner', 'concession',\n",
    "                'consequence-n', 'temporal-same-time', 'restatement', 'elaboration-object-attribute',\n",
    "                'antithesis', 'consequence-s', 'definition', 'Contrast', 'result', 'means', 'attribution-n',\n",
    "                'interpretation-s', 'temporal-after', 'example-e', 'result-e', 'explanation-argumentative',\n",
    "                'elaboration-general-specific-e', 'elaboration-set-member-e', 'attribution-e',\n",
    "                'evaluation-s', 'circumstance-e', 'background', 'evidence', 'comment-e', 'purpose-e',\n",
    "                'interpretation-n', 'condition-e', 'temporal-before', 'comment', 'elaboration-part-whole',\n",
    "                'comparison', 'contingency', 'hypothetical', 'analogy-e', 'evaluation-s-e',\n",
    "                'elaboration-set-member', 'temporal-after-e', 'comparison-e', 'means-e', 'example',\n",
    "                'evidence-e', 'cause', 'preference', 'enablement', 'question-answer-s',\n",
    "                'explanation-argumentative-e', 'definition-e', 'antithesis-e', 'summary-n',\n",
    "                'analogy', 'interpretation-s-e', 'concession-e', 'consequence-s-e', 'manner-e',\n",
    "                'preference-e', 'reason-e', 'temporal-same-time-e', 'consequence-n-e',\n",
    "                'enablement-e', 'evaluation-n', 'temporal-before-e', 'otherwise', 'question-answer-n',\n",
    "                'conclusion', 'dr_exist', 'nb_distinct_rel', 'nb_nuc', 'nb_sat', 'nb_root'\n",
    "                'width', \"height\", \"multinuc\"]\n",
    "\n",
    "len(names)\n",
    "\n",
    "feat_imp = model_rf.feature_importances_\n",
    "    \n",
    "sVals = sorted(feat_imp)  \n",
    "Z = [x for _,x in sorted(zip(feat_imp,names))]\n",
    "for feat, name in zip(sVals, Z):\n",
    "    print(str(feat)+\"  \"+name)"
   ]
  },
  {
   "cell_type": "code",
   "execution_count": null,
   "metadata": {},
   "outputs": [],
   "source": [
    "l = np.sort(model_rf.feature_importances_)\n",
    "plt.plot(l)\n",
    "plt.show()"
   ]
  },
  {
   "cell_type": "code",
   "execution_count": null,
   "metadata": {},
   "outputs": [],
   "source": [
    "preds_rf = model_rf.predict(X_test)"
   ]
  },
  {
   "cell_type": "code",
   "execution_count": null,
   "metadata": {},
   "outputs": [],
   "source": [
    "from scipy.spatial import distance"
   ]
  },
  {
   "cell_type": "code",
   "execution_count": null,
   "metadata": {},
   "outputs": [],
   "source": [
    "from FImp import rsqq, rsq, mse"
   ]
  },
  {
   "cell_type": "code",
   "execution_count": null,
   "metadata": {},
   "outputs": [],
   "source": [
    "cos_dists = []\n",
    "rsq_dists = []\n",
    "mse_dists = []\n",
    "\n",
    "for true, pred in zip(preds_rf, y_test):\n",
    "    cos_dists.append(distance.cosine(true, pred))\n",
    "    rsq_dists.append(rsqq(true, pred))\n",
    "    mse_dists.append(mse(true, pred))"
   ]
  },
  {
   "cell_type": "code",
   "execution_count": null,
   "metadata": {},
   "outputs": [],
   "source": [
    "print(np.min(rsq_dists))\n",
    "print(np.mean(rsq_dists))\n",
    "print(np.max(rsq_dists))"
   ]
  },
  {
   "cell_type": "code",
   "execution_count": null,
   "metadata": {},
   "outputs": [],
   "source": [
    "print(np.min(rsq_dists))\n",
    "print(np.mean(rsq_dists))\n",
    "print(np.max(rsq_dists))"
   ]
  },
  {
   "cell_type": "code",
   "execution_count": null,
   "metadata": {},
   "outputs": [],
   "source": [
    "print(np.min(cos_dists))\n",
    "print(np.mean(cos_dists))\n",
    "print(np.max(cos_dists))"
   ]
  },
  {
   "cell_type": "code",
   "execution_count": null,
   "metadata": {},
   "outputs": [],
   "source": [
    "print(np.min(mse_dists))\n",
    "print(np.mean(mse_dists))\n",
    "print(np.max(mse_dists))"
   ]
  },
  {
   "cell_type": "code",
   "execution_count": null,
   "metadata": {},
   "outputs": [],
   "source": [
    "for x, y in zip(preds_rf[0], y_test[0]):\n",
    "    print(str(x)+\"   \"+str(float(y)))"
   ]
  },
  {
   "cell_type": "code",
   "execution_count": null,
   "metadata": {},
   "outputs": [],
   "source": [
    "cos_dists = []\n",
    "rsq_dists = []\n",
    "\n",
    "\n",
    "for true, pred in zip(preds_rf, y_test):\n",
    "    #cos_dists.append(distance.cosine(true, pred))\n",
    "    rsq_dists.append(rsqq(true, pred))\n",
    "\n",
    "\n",
    "print(np.min(rsq_dists))\n",
    "print(np.mean(rsq_dists))\n",
    "print(np.max(rsq_dists))"
   ]
  },
  {
   "cell_type": "code",
   "execution_count": null,
   "metadata": {},
   "outputs": [],
   "source": [
    "from FImp import *"
   ]
  },
  {
   "cell_type": "code",
   "execution_count": null,
   "metadata": {},
   "outputs": [],
   "source": [
    "pred_X = net(X_test)"
   ]
  },
  {
   "cell_type": "code",
   "execution_count": null,
   "metadata": {},
   "outputs": [],
   "source": [
    "pred_X = pred_X.tolist()"
   ]
  },
  {
   "cell_type": "code",
   "execution_count": null,
   "metadata": {},
   "outputs": [],
   "source": [
    "mean_mse = []"
   ]
  },
  {
   "cell_type": "code",
   "execution_count": null,
   "metadata": {},
   "outputs": [],
   "source": [
    "for x, y in zip(y_test, pred_X):\n",
    "    x = [int(b) for b in x]\n",
    "    y = [int(a) for a in y]\n",
    "    cur_mse = mse(list(x), list(y))\n",
    "    mean_mse.append(cur_mse)"
   ]
  },
  {
   "cell_type": "code",
   "execution_count": null,
   "metadata": {},
   "outputs": [],
   "source": [
    "mean_mae = []"
   ]
  },
  {
   "cell_type": "code",
   "execution_count": null,
   "metadata": {},
   "outputs": [],
   "source": [
    "for x, y in zip(y_test, pred_X):\n",
    "    x = [int(b) for b in x]\n",
    "    y = [int(a) for a in y]\n",
    "    cur_mae = mae(list(x), list(y))\n",
    "    mean_mae.append(cur_mae)"
   ]
  },
  {
   "cell_type": "code",
   "execution_count": null,
   "metadata": {},
   "outputs": [],
   "source": [
    "print(np.mean(mean_mae))"
   ]
  },
  {
   "cell_type": "code",
   "execution_count": null,
   "metadata": {},
   "outputs": [],
   "source": [
    "np.sqrt(np.mean(mean_mae))"
   ]
  },
  {
   "cell_type": "code",
   "execution_count": null,
   "metadata": {},
   "outputs": [],
   "source": [
    "print(np.mean(mean_mse))"
   ]
  },
  {
   "cell_type": "code",
   "execution_count": null,
   "metadata": {},
   "outputs": [],
   "source": [
    "np.sqrt(np.mean(mean_mse))"
   ]
  },
  {
   "cell_type": "code",
   "execution_count": null,
   "metadata": {},
   "outputs": [],
   "source": [
    "dbg_pred = pred_X[100]\n",
    "dbg_true = y_test[100]\n",
    "\n",
    "\n",
    "print(mse(dbg_pred, dbg_true))\n",
    "print(\"===============\")\n",
    "for x, y in zip(dbg_pred, dbg_true):\n",
    "    print(str(x)+ \"\\t\"+ str(y))"
   ]
  }
 ],
 "metadata": {
  "kernelspec": {
   "display_name": "venv_movesdist",
   "language": "python",
   "name": "venv_movesdist"
  },
  "language_info": {
   "codemirror_mode": {
    "name": "ipython",
    "version": 3
   },
   "file_extension": ".py",
   "mimetype": "text/x-python",
   "name": "python",
   "nbconvert_exporter": "python",
   "pygments_lexer": "ipython3",
   "version": "3.7.6"
  }
 },
 "nbformat": 4,
 "nbformat_minor": 4
}
